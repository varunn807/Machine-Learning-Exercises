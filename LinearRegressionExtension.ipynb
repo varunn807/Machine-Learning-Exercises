{
 "cells": [
  {
   "cell_type": "markdown",
   "metadata": {},
   "source": [
    "# Linear Regression\n",
    "\n",
    "## Qualitative Features & Interaction Terms\n",
    "\n",
    "### A) Use the credit data set, fit OLS linear regressio model using all the following features\n",
    "\n",
    " - Student\n",
    " - Income\n",
    " - Limit\n",
    " - Interaction term: Income*Student\n",
    " - Interaction term: Limit*Student\n",
    "\n",
    "Find the p-values of all features. Are they all helpful in predicting the response? \n"
   ]
  },
  {
   "cell_type": "code",
   "execution_count": 1,
   "metadata": {},
   "outputs": [
    {
     "name": "stdout",
     "output_type": "stream",
     "text": [
      "=========================================================================================\n",
      "                            coef    std err          t      P>|t|      [0.025      0.975]\n",
      "-----------------------------------------------------------------------------------------\n",
      "Intercept              -415.3863     12.436    -33.401      0.000    -439.836    -390.936\n",
      "Student[T.Yes]          235.2261     41.256      5.702      0.000     154.117     316.336\n",
      "Income                   -7.6162      0.252    -30.272      0.000      -8.111      -7.122\n",
      "Income:Student[T.Yes]    -2.5835      0.702     -3.678      0.000      -3.965      -1.202\n",
      "Limit                     0.2613      0.004     69.090      0.000       0.254       0.269\n",
      "Limit:Student[T.Yes]      0.0667      0.012      5.515      0.000       0.043       0.090\n",
      "=========================================================================================\n",
      "'P-values are : \n",
      "' Intercept                5.549684e-117\n",
      "Student[T.Yes]            2.330768e-08\n",
      "Income                   7.366425e-105\n",
      "Income:Student[T.Yes]     2.680862e-04\n",
      "Limit                    2.626683e-222\n",
      "Limit:Student[T.Yes]      6.320226e-08\n",
      "dtype: float64\n"
     ]
    }
   ],
   "source": [
    "import statsmodels.formula.api as smf\n",
    "from pandas import read_csv\n",
    "\n",
    "credit =read_csv('Credit2.csv')\n",
    "\n",
    "# Add your code here\n",
    "model=smf.ols('Balance~Student+Income+Limit+Income*Student+Limit*Student',credit)\n",
    "Results=model.fit()\n",
    "print(Results.summary().tables[1])\n",
    "\n",
    "print(\"'P-values are : \\n'\",Results.pvalues)"
   ]
  },
  {
   "cell_type": "code",
   "execution_count": null,
   "metadata": {},
   "outputs": [],
   "source": [
    "## Yes,since all features have a very low p-value. And low p-value suggests strong association between feature and response."
   ]
  },
  {
   "cell_type": "markdown",
   "metadata": {},
   "source": [
    "### B) Find the test $R^2$ score for estimating the balance from features (Income, Limit, StudentEncode) using linear regression model. The StudentEncode is the binary feature that maps Student (yes to 1 and No to 0)\n",
    "- Hint:You can use credit.Student.map({'No':0 , 'Yes':1}) to create StudentEncode \n"
   ]
  },
  {
   "cell_type": "code",
   "execution_count": 4,
   "metadata": {},
   "outputs": [
    {
     "name": "stdout",
     "output_type": "stream",
     "text": [
      "The Test R2 score is : 0.9492691755287224\n"
     ]
    }
   ],
   "source": [
    "import pandas as pd\n",
    "import numpy as np\n",
    "from sklearn.model_selection import train_test_split\n",
    "from sklearn.linear_model import LinearRegression\n",
    "\n",
    "# Add your code here\n",
    "credit['StudentEncode']=credit.Student.map({'No':0,'Yes':1})\n",
    "X=credit[['Income','Limit','StudentEncode']].values\n",
    "Y=credit[['Balance']].values\n",
    "X_train,X_test,Y_train,Y_test=train_test_split(X,Y,random_state=0)\n",
    "\n",
    "linereg=LinearRegression().fit(X_train,Y_train)\n",
    "r2=linereg.score(X_test,Y_test)\n",
    "\n",
    "print(\"The Test R2 score is :\",r2)\n"
   ]
  },
  {
   "cell_type": "code",
   "execution_count": null,
   "metadata": {},
   "outputs": [],
   "source": [
    "#Since the R2 score is so high,it is safe to say that the model fits the data pretty well."
   ]
  },
  {
   "cell_type": "markdown",
   "metadata": {},
   "source": [
    "### C) Repeat the above question after adding to the model two interaction terms: Income * StudentEncode and Limit * StudentEncode\n",
    "\n",
    "    you can use:\n",
    "        credit['InteractionTerm1']=credit.Income*credit.StudentEncode\n",
    "        credit['InteractionTerm2']=credit.Limit*credit.StudentEncode"
   ]
  },
  {
   "cell_type": "code",
   "execution_count": 6,
   "metadata": {},
   "outputs": [
    {
     "name": "stdout",
     "output_type": "stream",
     "text": [
      "The Test R2 score is : 0.952585323631472\n",
      "   Unnamed: 0   Income  Limit  Rating  Cards  Age  Education  Gender Student  \\\n",
      "0           1   14.891   3606     283      2   34         11    Male      No   \n",
      "1           2  106.025   6645     483      3   82         15  Female     Yes   \n",
      "2           3  104.593   7075     514      4   71         11    Male      No   \n",
      "3           4  148.924   9504     681      3   36         11  Female      No   \n",
      "4           5   55.882   4897     357      2   68         16    Male      No   \n",
      "\n",
      "  Married  Ethnicity  Balance  StudentEncode  InteractionTerm1  \\\n",
      "0     Yes  Caucasian      333              0             0.000   \n",
      "1     Yes      Asian      903              1           106.025   \n",
      "2      No      Asian      580              0             0.000   \n",
      "3      No      Asian      964              0             0.000   \n",
      "4     Yes  Caucasian      331              0             0.000   \n",
      "\n",
      "   InteractionTerm2  \n",
      "0                 0  \n",
      "1              6645  \n",
      "2                 0  \n",
      "3                 0  \n",
      "4                 0  \n"
     ]
    }
   ],
   "source": [
    "# Add your code here\n",
    "\n",
    "credit['InteractionTerm1']=credit.Income*credit.StudentEncode\n",
    "credit['InteractionTerm2']=credit.Limit*credit.StudentEncode\n",
    "X=credit[['Income','Limit','StudentEncode','InteractionTerm1','InteractionTerm2']].values\n",
    "Y=credit[['Balance']].values\n",
    "X_train,X_test,Y_train,Y_test=train_test_split(X,Y,random_state=0)\n",
    "\n",
    "linereg=LinearRegression().fit(X_train,Y_train)\n",
    "r2=linereg.score(X_test,Y_test)\n",
    "\n",
    "print(\"The new Test R2 score is :\",r2)\n",
    "print(credit.head())"
   ]
  },
  {
   "cell_type": "markdown",
   "metadata": {},
   "source": [
    "This also has a high R2 score which implies that the model fits the data nicely."
   ]
  }
 ],
 "metadata": {
  "kernelspec": {
   "display_name": "Python 3",
   "language": "python",
   "name": "python3"
  },
  "language_info": {
   "codemirror_mode": {
    "name": "ipython",
    "version": 3
   },
   "file_extension": ".py",
   "mimetype": "text/x-python",
   "name": "python",
   "nbconvert_exporter": "python",
   "pygments_lexer": "ipython3",
   "version": "3.6.5"
  }
 },
 "nbformat": 4,
 "nbformat_minor": 2
}
